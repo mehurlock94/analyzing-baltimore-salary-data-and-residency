{
  "nbformat": 4,
  "nbformat_minor": 0,
  "metadata": {
    "colab": {
      "name": "Mini_Project_4.ipynb",
      "provenance": [],
      "collapsed_sections": [],
      "authorship_tag": "ABX9TyNtp91BNUWvwEzdfB4Mu4YV",
      "include_colab_link": true
    },
    "kernelspec": {
      "name": "python3",
      "display_name": "Python 3"
    },
    "language_info": {
      "name": "python"
    }
  },
  "cells": [
    {
      "cell_type": "markdown",
      "metadata": {
        "id": "view-in-github",
        "colab_type": "text"
      },
      "source": [
        "<a href=\"https://colab.research.google.com/github/mehurlock94/analyzing-baltimore-salary-data-and-residency/blob/main/Mini_Project_4.ipynb\" target=\"_parent\"><img src=\"https://colab.research.google.com/assets/colab-badge.svg\" alt=\"Open In Colab\"/></a>"
      ]
    },
    {
      "cell_type": "code",
      "metadata": {
        "id": "B0KExVPrhntK",
        "colab": {
          "base_uri": "https://localhost:8080/",
          "height": 697
        },
        "outputId": "3653757e-6f31-424c-be7a-cd9e0b281c44"
      },
      "source": [
        "# import tools for the program\n",
        "import pandas as pd\n",
        "import matplotlib.pyplot as plt\n",
        "import plotly.express as px\n",
        "import datetime\n",
        "import numpy as np\n",
        "import six\n",
        "from google.colab import files\n",
        "\n",
        "# import data sets for manipulation\n",
        "salary_data = pd.read_csv(\"https://raw.githubusercontent.com/mehurlock94/analyzing-baltimore-salary-data-and-residency/main/Baltimore_Employee_Salaries.csv\")\n",
        "residency_data = pd.read_csv(\"https://raw.githubusercontent.com/mehurlock94/analyzing-baltimore-salary-data-and-residency/main/Baltimore_City_Employee_Residency_by_Agency.csv\")\n",
        "\n",
        "# clean the date column to calculate the time on the job\n",
        "variable=salary_data['HireDate'].str.split(' ',1,expand=True)\n",
        "salary_data['Expand']=variable[0]\n",
        "variable=salary_data['Expand'].str.split('/')\n",
        "\n",
        "# at this point, the year, month and date have been extracted into a list that needs to be converted back to a normal date. This normal date is subtracted from the current date to determine days of employment.\n",
        "dates=[]\n",
        "for item in variable:\n",
        "  start = datetime.datetime(int(item[0]),int(item[1]),int(item[2]))\n",
        "  now = datetime.datetime.today()\n",
        "  difference = str(now-start)\n",
        "  difference=difference.split(',')\n",
        "  difference=difference[0].split(' ')\n",
        "  dates.append(int(difference[0]))\n",
        "salary_data[\"DaysEmployed\"]=dates\n",
        "\n",
        "# remove the unnecessary columns from the final dataframe\n",
        "remove = ['HireDate','Expand','ID','FirstName','MI','LastName','JobTitle','AgencyID']\n",
        "for label in remove:\n",
        "  del salary_data[label]\n",
        "\n",
        "# pull agency names from the residency data\n",
        "for col, row in residency_data.iterrows():\n",
        "  residency_data.at[col,'deptName']=row['deptName'].strip()\n",
        "residency=pd.unique(residency_data['deptName'])\n",
        "\n",
        "# set fiscal year to 2020 and clean agency names\n",
        "salary_data_2020=salary_data[salary_data['FiscalYear']=='FY2020']\n",
        "variable=salary_data_2020['AgencyName'].str.split('(',1,expand=True)\n",
        "salary_data_2020['AgencyName']=variable[0]\n",
        "for col, row in salary_data_2020.iterrows():\n",
        "  salary_data_2020.at[col,'AgencyName']=row['AgencyName'].strip()\n",
        "  if 'BPD' in row['AgencyName']:\n",
        "    salary_data_2020.at[col, 'AgencyName']='Police Department'\n",
        "  elif 'Police' in row['AgencyName']:\n",
        "    salary_data_2020.at[col, 'AgencyName']='Police Department'\n",
        "  elif 'HLTH' in row['AgencyName']:\n",
        "    salary_data_2020.at[col, 'AgencyName']='HLTH-Health Department'\n",
        "\n",
        "\n",
        "# pull unique agencies from salary data and create a congruent list between salary data and residency data\n",
        "salary=pd.unique(salary_data_2020['AgencyName'])\n",
        "salary.sort()\n",
        "print (salary)\n",
        "residency.sort()\n",
        "joint=[]\n",
        "for agency in salary:\n",
        "  if agency in residency:\n",
        "    joint.append(agency)\n",
        "\n",
        "# remove unnecessary columns from residency data\n",
        "residency_data.drop(residency_data.columns.difference(['deptName','totalEmployees','baltCity']),1,inplace=True)\n",
        "for col, row in residency_data.iterrows():\n",
        "  total=int(row['totalEmployees'])\n",
        "  balt=int(row['baltCity'])\n",
        "  residency_data.at[col, 'percentBalt']=round(balt/total,4)\n",
        "residency_data=residency_data.rename(columns={'deptName':'AgencyName'})\n",
        "residency_data=residency_data.set_index('AgencyName')\n",
        "\n",
        "# determine average salary per agency\n",
        "salary_data_2020_agg=salary_data_2020.groupby('AgencyName').agg({'AnnualSalary':'mean','GrossPay':'mean','DaysEmployed':'mean'})\n",
        "salary_data_2020_agg=pd.DataFrame(salary_data_2020_agg.values, index=salary_data_2020_agg.index.values, columns=['AnnualSalary','GrossPay','DaysEmployed'])\n",
        "salary_data_2020_agg.index.name='AgencyName'\n",
        "\n",
        "# combine pertinent residency data with salary date\n",
        "join=pd.merge(residency_data,salary_data_2020_agg,on='AgencyName')\n",
        "join.index.name=''\n",
        "\n",
        "# generate plot of employment time vs. percent living in Baltimore\n",
        "join_melt_1=pd.melt(join,id_vars=['DaysEmployed'],value_vars=['percentBalt'])\n",
        "graph_1=px.scatter(join_melt_1,x=\"DaysEmployed\",y='value',title='Effect of Employment Time on Living Location',labels={'DaysEmployed':'Days of Employment','value':'Percent of Employees Living in Baltimore'},trendline='ols')\n",
        "graph_1.write_html('Employment_Time.html')\n",
        "files.download('Employment_Time.html')\n",
        "\n",
        "# generate plot of employment time vs. percent living in Baltimore\n",
        "join_melt_2=pd.melt(join,id_vars=['GrossPay'],value_vars=['percentBalt'])\n",
        "graph_2=px.scatter(join_melt_2,x=\"GrossPay\",y='value',title='Effect of Gross Pay on Living Location',labels={'GrossPay':'Gross Pay','value':'Percent of Employees Living in Baltimore'},trendline='ols')\n",
        "graph_2.write_html('Gross_Pay.html')\n",
        "files.download('Gross_Pay.html')\n",
        "\n",
        "# horizontal bar plot for balt living data\n",
        "join=join.sort_values(by=['percentBalt'])\n",
        "join.drop(join.columns.difference(['percentBalt']),1,inplace=True)\n",
        "join=join.rename(columns={'percentBalt':'Percent of Employees Living in Baltimore (Lowest 5)'})\n",
        "join.head()\n",
        "# join=join.rename(columns={'percentBalt':'Percent of Employees Living in Baltimore (Highest 5)'})\n",
        "# join.tail()\n",
        "\n"
      ],
      "execution_count": 16,
      "outputs": [
        {
          "output_type": "stream",
          "text": [
            "/usr/local/lib/python3.7/dist-packages/ipykernel_launcher.py:43: SettingWithCopyWarning:\n",
            "\n",
            "\n",
            "A value is trying to be set on a copy of a slice from a DataFrame.\n",
            "Try using .loc[row_indexer,col_indexer] = value instead\n",
            "\n",
            "See the caveats in the documentation: https://pandas.pydata.org/pandas-docs/stable/user_guide/indexing.html#returning-a-view-versus-a-copy\n",
            "\n"
          ],
          "name": "stderr"
        },
        {
          "output_type": "stream",
          "text": [
            "['COMP-Audits' 'COMP-Communication Services' \"COMP-Comptroller's Office\"\n",
            " 'COMP-Real Estate' 'Circuit Court' 'City Council'\n",
            " 'Civil Rights & Wage Enforce' 'Council Services' 'DPW-Administration'\n",
            " 'DPW-Solid Waste' 'DPW-Water & Waste Water' 'Dem 01' 'ERS/EOS Admin'\n",
            " 'Elections' 'Enoch Pratt Free Library' 'FIN-Acct & Payroll'\n",
            " 'FIN-Admin & Budgets' 'FIN-Collections' 'FIN-Purchasing'\n",
            " 'FIN-Risk Management Oper' 'FIN-Treasury Mgt' 'FPR Admin'\n",
            " 'Fire Department' 'General Services' 'HLTH-Health Department'\n",
            " 'HR-Human Resources' 'HR-Test Monitor' 'Housing & Community Dev'\n",
            " 'Law Department' 'Legislative Reference' 'Liquor License Board'\n",
            " 'M-R Cable & Comm' 'M-R Convention Center' 'M-R Environmental Cntrl'\n",
            " 'M-R Human Services' 'M-R Info Technology' 'M-R Labor Commissioner'\n",
            " \"Mayor's Office\" 'Mayors Office' 'Municipal & Zoning Appeals 001'\n",
            " 'OED-Employment Dev' 'Office, Children and Family' \"Orphan's Court\"\n",
            " 'Planning Department' 'Police Department' 'R&P-Administration'\n",
            " 'R&P-Parks' 'R&P-Recreation' 'Rep 01' \"Sheriff's Office\"\n",
            " 'Special City Services' 'States Attorneys Office'\n",
            " 'TRANS-Cross Guard-Summer' 'TRANS-Crossing Guards' 'TRANS-Highways'\n",
            " 'TRANS-Towing' 'TRANS-Traffic' 'Una 01']\n"
          ],
          "name": "stdout"
        },
        {
          "output_type": "display_data",
          "data": {
            "application/javascript": [
              "\n",
              "    async function download(id, filename, size) {\n",
              "      if (!google.colab.kernel.accessAllowed) {\n",
              "        return;\n",
              "      }\n",
              "      const div = document.createElement('div');\n",
              "      const label = document.createElement('label');\n",
              "      label.textContent = `Downloading \"${filename}\": `;\n",
              "      div.appendChild(label);\n",
              "      const progress = document.createElement('progress');\n",
              "      progress.max = size;\n",
              "      div.appendChild(progress);\n",
              "      document.body.appendChild(div);\n",
              "\n",
              "      const buffers = [];\n",
              "      let downloaded = 0;\n",
              "\n",
              "      const channel = await google.colab.kernel.comms.open(id);\n",
              "      // Send a message to notify the kernel that we're ready.\n",
              "      channel.send({})\n",
              "\n",
              "      for await (const message of channel.messages) {\n",
              "        // Send a message to notify the kernel that we're ready.\n",
              "        channel.send({})\n",
              "        if (message.buffers) {\n",
              "          for (const buffer of message.buffers) {\n",
              "            buffers.push(buffer);\n",
              "            downloaded += buffer.byteLength;\n",
              "            progress.value = downloaded;\n",
              "          }\n",
              "        }\n",
              "      }\n",
              "      const blob = new Blob(buffers, {type: 'application/binary'});\n",
              "      const a = document.createElement('a');\n",
              "      a.href = window.URL.createObjectURL(blob);\n",
              "      a.download = filename;\n",
              "      div.appendChild(a);\n",
              "      a.click();\n",
              "      div.remove();\n",
              "    }\n",
              "  "
            ],
            "text/plain": [
              "<IPython.core.display.Javascript object>"
            ]
          },
          "metadata": {
            "tags": []
          }
        },
        {
          "output_type": "display_data",
          "data": {
            "application/javascript": [
              "download(\"download_3f6cd26f-71fa-4cd0-96f0-6af959ef0180\", \"Employment_Time.html\", 3298002)"
            ],
            "text/plain": [
              "<IPython.core.display.Javascript object>"
            ]
          },
          "metadata": {
            "tags": []
          }
        },
        {
          "output_type": "display_data",
          "data": {
            "application/javascript": [
              "\n",
              "    async function download(id, filename, size) {\n",
              "      if (!google.colab.kernel.accessAllowed) {\n",
              "        return;\n",
              "      }\n",
              "      const div = document.createElement('div');\n",
              "      const label = document.createElement('label');\n",
              "      label.textContent = `Downloading \"${filename}\": `;\n",
              "      div.appendChild(label);\n",
              "      const progress = document.createElement('progress');\n",
              "      progress.max = size;\n",
              "      div.appendChild(progress);\n",
              "      document.body.appendChild(div);\n",
              "\n",
              "      const buffers = [];\n",
              "      let downloaded = 0;\n",
              "\n",
              "      const channel = await google.colab.kernel.comms.open(id);\n",
              "      // Send a message to notify the kernel that we're ready.\n",
              "      channel.send({})\n",
              "\n",
              "      for await (const message of channel.messages) {\n",
              "        // Send a message to notify the kernel that we're ready.\n",
              "        channel.send({})\n",
              "        if (message.buffers) {\n",
              "          for (const buffer of message.buffers) {\n",
              "            buffers.push(buffer);\n",
              "            downloaded += buffer.byteLength;\n",
              "            progress.value = downloaded;\n",
              "          }\n",
              "        }\n",
              "      }\n",
              "      const blob = new Blob(buffers, {type: 'application/binary'});\n",
              "      const a = document.createElement('a');\n",
              "      a.href = window.URL.createObjectURL(blob);\n",
              "      a.download = filename;\n",
              "      div.appendChild(a);\n",
              "      a.click();\n",
              "      div.remove();\n",
              "    }\n",
              "  "
            ],
            "text/plain": [
              "<IPython.core.display.Javascript object>"
            ]
          },
          "metadata": {
            "tags": []
          }
        },
        {
          "output_type": "display_data",
          "data": {
            "application/javascript": [
              "download(\"download_ba1b7af9-c3bf-4f62-9b68-ac22ca1795f4\", \"Gross_Pay.html\", 3298130)"
            ],
            "text/plain": [
              "<IPython.core.display.Javascript object>"
            ]
          },
          "metadata": {
            "tags": []
          }
        },
        {
          "output_type": "execute_result",
          "data": {
            "text/html": [
              "<div>\n",
              "<style scoped>\n",
              "    .dataframe tbody tr th:only-of-type {\n",
              "        vertical-align: middle;\n",
              "    }\n",
              "\n",
              "    .dataframe tbody tr th {\n",
              "        vertical-align: top;\n",
              "    }\n",
              "\n",
              "    .dataframe thead th {\n",
              "        text-align: right;\n",
              "    }\n",
              "</style>\n",
              "<table border=\"1\" class=\"dataframe\">\n",
              "  <thead>\n",
              "    <tr style=\"text-align: right;\">\n",
              "      <th></th>\n",
              "      <th>Percent of Employees Living in Baltimore (Lowest 5)</th>\n",
              "    </tr>\n",
              "    <tr>\n",
              "      <th></th>\n",
              "      <th></th>\n",
              "    </tr>\n",
              "  </thead>\n",
              "  <tbody>\n",
              "    <tr>\n",
              "      <th>Police Department</th>\n",
              "      <td>0.2330</td>\n",
              "    </tr>\n",
              "    <tr>\n",
              "      <th>COMP-Audits</th>\n",
              "      <td>0.2973</td>\n",
              "    </tr>\n",
              "    <tr>\n",
              "      <th>Fire Department</th>\n",
              "      <td>0.3109</td>\n",
              "    </tr>\n",
              "    <tr>\n",
              "      <th>FIN-Acct &amp; Payroll</th>\n",
              "      <td>0.3400</td>\n",
              "    </tr>\n",
              "    <tr>\n",
              "      <th>States Attorneys Office</th>\n",
              "      <td>0.4206</td>\n",
              "    </tr>\n",
              "  </tbody>\n",
              "</table>\n",
              "</div>"
            ],
            "text/plain": [
              "                         Percent of Employees Living in Baltimore (Lowest 5)\n",
              "                                                                            \n",
              "Police Department                                                   0.2330  \n",
              "COMP-Audits                                                         0.2973  \n",
              "Fire Department                                                     0.3109  \n",
              "FIN-Acct & Payroll                                                  0.3400  \n",
              "States Attorneys Office                                             0.4206  "
            ]
          },
          "metadata": {
            "tags": []
          },
          "execution_count": 16
        }
      ]
    },
    {
      "cell_type": "code",
      "metadata": {
        "id": "ehURLDnN29Pf"
      },
      "source": [
        ""
      ],
      "execution_count": null,
      "outputs": []
    }
  ]
}